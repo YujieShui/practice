{
 "cells": [
  {
   "cell_type": "markdown",
   "metadata": {},
   "source": [
    "Numpy 是非常强大的 Python 数值计算库。你可以参阅以下资源：\n",
    "\n",
    "* [Numpy 官方教程](https://docs.scipy.org/doc/numpy/user/quickstart.html)\n",
    "* [CS231N Numpy](http://cs231n.github.io/python-numpy-tutorial/)\n",
    "* [Numpy 中文文档](https://www.numpy.org.cn/index.html)"
   ]
  },
  {
   "cell_type": "markdown",
   "metadata": {},
   "source": [
    "# ndaray 对象\n",
    "\n",
    "Numpy 包的核心是ndarray对象。NumPy数组 和 标准Python Array（数组） 之间有几个重要的区别：\n",
    "\n",
    "- NumPy数组在创建时具有固定的大小，与Python的原生数组对象（可以动态增长）不同。 更改ndarray的大小将创建一个新数组并删除原来的数组。\n",
    "- NumPy数组中的元素都需要具有相同的数据类型，因此在内存中的大小相同。 \n",
    "- NumPy数组有助于对大量数据进行高级数学和其他类型的操作。\n",
    "- 越来越多的基于Python的科学和数学软件包使用NumPy数组;\n",
    "\n",
    "Numpy 优势\n",
    "\n",
    "- Python 代码更加简介，运算调用预编译的 C 代码速度更快\n",
    "- 矢量化代码更简洁，更易于阅读\n",
    "\n",
    "# ndarray 属性"
   ]
  },
  {
   "cell_type": "code",
   "execution_count": 28,
   "metadata": {},
   "outputs": [
    {
     "name": "stdout",
     "output_type": "stream",
     "text": [
      "<class 'numpy.ndarray'>\n",
      "int64\n",
      "25\n",
      "(5, 5)\n",
      "8\n",
      "2\n",
      "200\n"
     ]
    }
   ],
   "source": [
    "import numpy as np\n",
    "\n",
    "# Array properties\n",
    "a = np.array([[11, 12, 13, 14, 15],\n",
    "              [16, 17, 18, 19, 20],\n",
    "              [21, 22, 23, 24, 25],\n",
    "              [26, 27, 28 ,29, 30],\n",
    "              [31, 32, 33, 34, 35]])\n",
    "\n",
    "print(type(a)) # >>><class 'numpy.ndarray'>\n",
    "print(a.dtype) # >>>int64\n",
    "print(a.size) # >>>25\n",
    "print(a.shape) # >>>(5, 5)\n",
    "print(a.itemsize) # >>>8\n",
    "print(a.ndim) # >>>2\n",
    "print(a.nbytes) # >>>200"
   ]
  },
  {
   "cell_type": "markdown",
   "metadata": {},
   "source": [
    "# ndarray 的创建，一维和二维"
   ]
  },
  {
   "cell_type": "code",
   "execution_count": 6,
   "metadata": {},
   "outputs": [
    {
     "name": "stdout",
     "output_type": "stream",
     "text": [
      "[1 2 3 4 5]\n",
      "1\n",
      "4\n",
      "(5,)\n",
      "[0 2 3 4 5]\n"
     ]
    }
   ],
   "source": [
    "import numpy as np\n",
    "# 定义一维 numpy\n",
    "arr = np.array([1,2,3,4,5])\n",
    "# 可以整个输出数组，指定索引输出，数组形状\n",
    "print(arr)\n",
    "print(arr[0])\n",
    "print(arr[3])\n",
    "print(arr.shape)\n",
    "\n",
    "# 修改元素\n",
    "arr[0] = 0\n",
    "print(arr)\n",
    "\n",
    "# 这些操作都挺符合逻辑，不难掌握"
   ]
  },
  {
   "cell_type": "code",
   "execution_count": 5,
   "metadata": {},
   "outputs": [
    {
     "name": "stdout",
     "output_type": "stream",
     "text": [
      "[0. 0. 0. 0. 0.]\n",
      "[1. 1. 1. 1. 1.]\n",
      "[0.52080146 0.03565074 0.35460495 0.68039326 0.75247859]\n"
     ]
    }
   ],
   "source": [
    "import numpy as np\n",
    "\n",
    "# 一维数组，长度为5，元素都为0\n",
    "my_new_array = np.zeros((5)) \n",
    "print(my_new_array)\n",
    "\n",
    "# 一维数组，长度为5，元素都为1\n",
    "my_new_array = np.ones((5))\n",
    "print(my_new_array)\n",
    "\n",
    "# 一维数组，长度为5，元素0-1随机\n",
    "my_new_array = np.random.random((5))\n",
    "print(my_new_array)"
   ]
  },
  {
   "cell_type": "markdown",
   "metadata": {},
   "source": [
    "**前面定义一维数组还是比较简单的，之后看看定义二维数组的方法**"
   ]
  },
  {
   "cell_type": "code",
   "execution_count": 29,
   "metadata": {},
   "outputs": [
    {
     "name": "stdout",
     "output_type": "stream",
     "text": [
      "[[0. 0. 0.]\n",
      " [0. 0. 0.]]\n",
      "*****************************\n",
      "[[3 4]\n",
      " [5 7]]\n",
      "[[3 4]\n",
      " [5 7]]\n",
      "*****************************\n",
      "7\n",
      "[4 7]\n",
      "(2, 2)\n"
     ]
    }
   ],
   "source": [
    "import numpy as np\n",
    "\n",
    "my_2d_array = np.zeros((2,3))\n",
    "print(my_2d_array)\n",
    "\n",
    "print(\"*****************************\")\n",
    "\n",
    "my_array = np.array([[3,4],[5,7]])\n",
    "print(my_array)\n",
    "\n",
    "my_array = np.array([(3,4),(5,7)])\n",
    "print(my_array)\n",
    "\n",
    "print(\"*****************************\")\n",
    "\n",
    "print(my_array[1,1])\n",
    "# 多维数组切片（包左不包右）\n",
    "print(my_array[:,1])\n",
    "print(my_array.shape)"
   ]
  },
  {
   "cell_type": "code",
   "execution_count": 27,
   "metadata": {
    "scrolled": true
   },
   "outputs": [
    {
     "name": "stdout",
     "output_type": "stream",
     "text": [
      "[10 13 16 19 22 25 28 31 34]\n",
      "[[10 13 16]\n",
      " [19 22 25]\n",
      " [28 31 34]]\n"
     ]
    }
   ],
   "source": [
    "import numpy as np\n",
    "\n",
    "# np.arrange() 返回的是数组而不是列表\n",
    "print(np.arange(10,35, 3))\n",
    "print(np.arange(10,35, 3).reshape(3,3))"
   ]
  },
  {
   "cell_type": "markdown",
   "metadata": {},
   "source": [
    "**此外还有数组创建还有更多的方式**\n",
    "\n",
    "> array, zeros, zeros_like, ones, ones_like, empty, empty_like, arange, linspace, numpy.random.rand, numpy.random.randn, fromfunction, fromfile"
   ]
  },
  {
   "cell_type": "markdown",
   "metadata": {},
   "source": [
    "# 打印数组\n",
    "\n",
    "当你打印数组时，NumPy以与嵌套列表类似的方式显示它，但是具有以下布局：\n",
    "\n",
    "- 最后一个轴从左到右打印\n",
    "- 倒数第二个从上到下打印\n",
    "- 其余的也从上到下打印，每个切片与下一个用空行分开。"
   ]
  },
  {
   "cell_type": "code",
   "execution_count": 32,
   "metadata": {},
   "outputs": [
    {
     "name": "stdout",
     "output_type": "stream",
     "text": [
      "[0 1 2 3 4 5]\n",
      "[[ 0  1  2  3]\n",
      " [ 4  5  6  7]\n",
      " [ 8  9 10 11]]\n",
      "[[[ 0  1  2  3]\n",
      "  [ 4  5  6  7]\n",
      "  [ 8  9 10 11]]\n",
      "\n",
      " [[12 13 14 15]\n",
      "  [16 17 18 19]\n",
      "  [20 21 22 23]]]\n",
      "[   0    1    2 ... 9997 9998 9999]\n"
     ]
    },
    {
     "ename": "ValueError",
     "evalue": "threshold must be numeric and non-NAN, try sys.maxsize for untruncated representation",
     "output_type": "error",
     "traceback": [
      "\u001b[0;31m---------------------------------------------------------------------------\u001b[0m",
      "\u001b[0;31mValueError\u001b[0m                                Traceback (most recent call last)",
      "\u001b[0;32m<ipython-input-32-71873bd14c2e>\u001b[0m in \u001b[0;36m<module>\u001b[0;34m\u001b[0m\n\u001b[1;32m     15\u001b[0m \u001b[0;31m# 数组过大打印时将会跳过中间部分\u001b[0m\u001b[0;34m\u001b[0m\u001b[0;34m\u001b[0m\u001b[0m\n\u001b[1;32m     16\u001b[0m \u001b[0mprint\u001b[0m\u001b[0;34m(\u001b[0m\u001b[0mnp\u001b[0m\u001b[0;34m.\u001b[0m\u001b[0marange\u001b[0m\u001b[0;34m(\u001b[0m\u001b[0;36m10000\u001b[0m\u001b[0;34m)\u001b[0m\u001b[0;34m)\u001b[0m\u001b[0;34m\u001b[0m\u001b[0m\n\u001b[0;32m---> 17\u001b[0;31m \u001b[0mnp\u001b[0m\u001b[0;34m.\u001b[0m\u001b[0mset_printoptions\u001b[0m\u001b[0;34m(\u001b[0m\u001b[0mthreshold\u001b[0m\u001b[0;34m=\u001b[0m\u001b[0mnp\u001b[0m\u001b[0;34m.\u001b[0m\u001b[0mnan\u001b[0m\u001b[0;34m)\u001b[0m\u001b[0;34m\u001b[0m\u001b[0m\n\u001b[0m",
      "\u001b[0;32m~/anaconda3/envs/py36/lib/python3.6/site-packages/numpy/core/arrayprint.py\u001b[0m in \u001b[0;36mset_printoptions\u001b[0;34m(precision, threshold, edgeitems, linewidth, suppress, nanstr, infstr, formatter, sign, floatmode, **kwarg)\u001b[0m\n\u001b[1;32m    244\u001b[0m     opt = _make_options_dict(precision, threshold, edgeitems, linewidth,\n\u001b[1;32m    245\u001b[0m                              \u001b[0msuppress\u001b[0m\u001b[0;34m,\u001b[0m \u001b[0mnanstr\u001b[0m\u001b[0;34m,\u001b[0m \u001b[0minfstr\u001b[0m\u001b[0;34m,\u001b[0m \u001b[0msign\u001b[0m\u001b[0;34m,\u001b[0m \u001b[0mformatter\u001b[0m\u001b[0;34m,\u001b[0m\u001b[0;34m\u001b[0m\u001b[0m\n\u001b[0;32m--> 246\u001b[0;31m                              floatmode, legacy)\n\u001b[0m\u001b[1;32m    247\u001b[0m     \u001b[0;31m# formatter is always reset\u001b[0m\u001b[0;34m\u001b[0m\u001b[0;34m\u001b[0m\u001b[0m\n\u001b[1;32m    248\u001b[0m     \u001b[0mopt\u001b[0m\u001b[0;34m[\u001b[0m\u001b[0;34m'formatter'\u001b[0m\u001b[0;34m]\u001b[0m \u001b[0;34m=\u001b[0m \u001b[0mformatter\u001b[0m\u001b[0;34m\u001b[0m\u001b[0m\n",
      "\u001b[0;32m~/anaconda3/envs/py36/lib/python3.6/site-packages/numpy/core/arrayprint.py\u001b[0m in \u001b[0;36m_make_options_dict\u001b[0;34m(precision, threshold, edgeitems, linewidth, suppress, nanstr, infstr, sign, formatter, floatmode, legacy)\u001b[0m\n\u001b[1;32m     91\u001b[0m         \u001b[0;31m# forbid the bad threshold arg suggested by stack overflow, gh-12351\u001b[0m\u001b[0;34m\u001b[0m\u001b[0;34m\u001b[0m\u001b[0m\n\u001b[1;32m     92\u001b[0m         \u001b[0;32mif\u001b[0m \u001b[0;32mnot\u001b[0m \u001b[0misinstance\u001b[0m\u001b[0;34m(\u001b[0m\u001b[0mthreshold\u001b[0m\u001b[0;34m,\u001b[0m \u001b[0mnumbers\u001b[0m\u001b[0;34m.\u001b[0m\u001b[0mNumber\u001b[0m\u001b[0;34m)\u001b[0m \u001b[0;32mor\u001b[0m \u001b[0mnp\u001b[0m\u001b[0;34m.\u001b[0m\u001b[0misnan\u001b[0m\u001b[0;34m(\u001b[0m\u001b[0mthreshold\u001b[0m\u001b[0;34m)\u001b[0m\u001b[0;34m:\u001b[0m\u001b[0;34m\u001b[0m\u001b[0m\n\u001b[0;32m---> 93\u001b[0;31m             raise ValueError(\"threshold must be numeric and non-NAN, try \"\n\u001b[0m\u001b[1;32m     94\u001b[0m                              \"sys.maxsize for untruncated representation\")\n\u001b[1;32m     95\u001b[0m     \u001b[0;32mreturn\u001b[0m \u001b[0moptions\u001b[0m\u001b[0;34m\u001b[0m\u001b[0m\n",
      "\u001b[0;31mValueError\u001b[0m: threshold must be numeric and non-NAN, try sys.maxsize for untruncated representation"
     ]
    }
   ],
   "source": [
    "import numpy as np\n",
    "\n",
    "# 一维\n",
    "a = np.arange(6)\n",
    "print(a)\n",
    "\n",
    "# 二维\n",
    "b = np.arange(12).reshape(3,4)\n",
    "print(b)\n",
    "\n",
    "# 三维\n",
    "c = np.arange(24).reshape(2,3,4)\n",
    "print(c)\n",
    "\n",
    "# 数组过大打印时将会跳过中间部分\n",
    "print(np.arange(10000))"
   ]
  },
  {
   "cell_type": "markdown",
   "metadata": {},
   "source": [
    "# Numpy 做算数运算\n",
    "\n",
    "四则运算演示"
   ]
  },
  {
   "cell_type": "code",
   "execution_count": 19,
   "metadata": {},
   "outputs": [
    {
     "name": "stdout",
     "output_type": "stream",
     "text": [
      "[[14.  12.4]\n",
      " [ 8.  16.2]]\n",
      "[[-7.   0.4]\n",
      " [ 0.   0. ]]\n",
      "[[36.75 38.4 ]\n",
      " [16.   65.61]]\n",
      "[[0.33333333 1.06666667]\n",
      " [1.         1.        ]]\n",
      "[[62.35 72.84]\n",
      " [74.4  89.61]]\n"
     ]
    }
   ],
   "source": [
    "import numpy as np\n",
    "\n",
    "a = np.array([[3.5,6.4],[4,8.1]])\n",
    "b = np.array([[10.5,6.0],[4,8.1]])\n",
    "\n",
    "# 加减乘除四则运算\n",
    "print(a + b)\n",
    "print(a - b)\n",
    "print(a * b)\n",
    "print(a / b)\n",
    "# 矩阵乘法\n",
    "print(a.dot(b))"
   ]
  },
  {
   "cell_type": "code",
   "execution_count": 20,
   "metadata": {},
   "outputs": [
    {
     "name": "stdout",
     "output_type": "stream",
     "text": [
      "45\n",
      "0\n",
      "9\n",
      "[ 0  1  3  6 10 15 21 28 36 45]\n"
     ]
    }
   ],
   "source": [
    "# 一些函数\n",
    "\n",
    "import numpy as np\n",
    "\n",
    "# dot, sum, min, max, cumsum\n",
    "a = np.arange(10)\n",
    "\n",
    "print(a.sum()) # >>>45\n",
    "print(a.min()) # >>>0\n",
    "print(a.max()) # >>>9\n",
    "print(a.cumsum()) # >>>[ 0  1  3  6 10 15 21 28 36 45]"
   ]
  },
  {
   "cell_type": "code",
   "execution_count": null,
   "metadata": {},
   "outputs": [],
   "source": []
  }
 ],
 "metadata": {
  "kernelspec": {
   "display_name": "Python 3",
   "language": "python",
   "name": "python3"
  },
  "language_info": {
   "codemirror_mode": {
    "name": "ipython",
    "version": 3
   },
   "file_extension": ".py",
   "mimetype": "text/x-python",
   "name": "python",
   "nbconvert_exporter": "python",
   "pygments_lexer": "ipython3",
   "version": "3.6.5"
  }
 },
 "nbformat": 4,
 "nbformat_minor": 2
}
