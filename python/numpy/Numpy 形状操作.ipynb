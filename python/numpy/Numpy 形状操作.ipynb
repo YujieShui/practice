{
 "cells": [
  {
   "cell_type": "markdown",
   "metadata": {},
   "source": [
    "# 改变数组的形状\n",
    "\n",
    "ndarray.shape, reshape, resize, ravel"
   ]
  },
  {
   "cell_type": "code",
   "execution_count": 12,
   "metadata": {},
   "outputs": [
    {
     "name": "stdout",
     "output_type": "stream",
     "text": [
      "[[2 3 7]\n",
      " [2 4 5]]\n",
      "(2, 3)\n"
     ]
    },
    {
     "data": {
      "text/plain": [
       "array([[2, 3],\n",
       "       [7, 2],\n",
       "       [4, 5]])"
      ]
     },
     "execution_count": 12,
     "metadata": {},
     "output_type": "execute_result"
    }
   ],
   "source": [
    "import numpy as np\n",
    "\n",
    "# 数组是有形状的\n",
    "a = np.array([[2,3,7],[2,4,5]])\n",
    "print(a)\n",
    "print(a.shape)\n",
    "\n",
    "# 以下返回修改后的数组，而不会改变数组本身\n",
    "a.ravel()\n",
    "# 格式化形状\n",
    "a.reshape(3,2)\n",
    "a.reshape(3,-1)\n",
    "# 矩阵的转置\n",
    "a.T\n",
    "\n",
    "# resize() 会改变数组本身\n",
    "a\n",
    "a.resize(3,2)\n",
    "a"
   ]
  },
  {
   "cell_type": "markdown",
   "metadata": {},
   "source": [
    "# 数组叠加\n",
    "hstack, vstack, column_stack, concatenate, c_, r_"
   ]
  },
  {
   "cell_type": "code",
   "execution_count": 18,
   "metadata": {},
   "outputs": [
    {
     "name": "stdout",
     "output_type": "stream",
     "text": [
      "[[1. 7.]\n",
      " [0. 0.]]\n",
      "[[5. 7.]\n",
      " [1. 5.]]\n",
      "[[1. 7.]\n",
      " [0. 0.]\n",
      " [5. 7.]\n",
      " [1. 5.]]\n",
      "[[1. 7. 5. 7.]\n",
      " [0. 0. 1. 5.]]\n"
     ]
    }
   ],
   "source": [
    "import numpy as np\n",
    "\n",
    "a = np.floor(10*np.random.random((2,2)))\n",
    "print(a)\n",
    "\n",
    "b = np.floor(10*np.random.random((2,2)))\n",
    "print(b)\n",
    "\n",
    "# vertically 横向扩展\n",
    "c = np.vstack((a,b))\n",
    "print(c)\n",
    "\n",
    "# horizontally 水平扩展\n",
    "d = np.hstack((a,b))\n",
    "print(d)"
   ]
  },
  {
   "cell_type": "markdown",
   "metadata": {},
   "source": [
    "# 数组分解"
   ]
  },
  {
   "cell_type": "code",
   "execution_count": 21,
   "metadata": {},
   "outputs": [
    {
     "data": {
      "text/plain": [
       "[array([[4., 7., 7.],\n",
       "        [0., 1., 6.]]), array([[0.],\n",
       "        [2.]]), array([[4., 3., 5., 9., 3., 2., 5., 7.],\n",
       "        [2., 2., 6., 3., 0., 8., 3., 7.]])]"
      ]
     },
     "execution_count": 21,
     "metadata": {},
     "output_type": "execute_result"
    }
   ],
   "source": [
    "a = np.floor(10*np.random.random((2,12)))\n",
    "a\n",
    "np.hsplit(a,3)\n",
    "np.hsplit(a,(3,4))"
   ]
  },
  {
   "cell_type": "code",
   "execution_count": null,
   "metadata": {},
   "outputs": [],
   "source": []
  }
 ],
 "metadata": {
  "kernelspec": {
   "display_name": "Python 3",
   "language": "python",
   "name": "python3"
  },
  "language_info": {
   "codemirror_mode": {
    "name": "ipython",
    "version": 3
   },
   "file_extension": ".py",
   "mimetype": "text/x-python",
   "name": "python",
   "nbconvert_exporter": "python",
   "pygments_lexer": "ipython3",
   "version": "3.6.5"
  }
 },
 "nbformat": 4,
 "nbformat_minor": 2
}
