{
 "cells": [
  {
   "cell_type": "code",
   "execution_count": 2,
   "metadata": {},
   "outputs": [
    {
     "data": {
      "text/plain": [
       "(3, 4)"
      ]
     },
     "execution_count": 2,
     "metadata": {},
     "output_type": "execute_result"
    }
   ],
   "source": [
    "import numpy as np\n",
    "\n",
    "# 赋值操作是引用传递\n",
    "a = np.arange(12)\n",
    "b = a\n",
    "b is a\n",
    "\n",
    "# 修改 b 对 a 造成影响\n",
    "b.shape = 3,4\n",
    "a.shape"
   ]
  },
  {
   "cell_type": "code",
   "execution_count": 9,
   "metadata": {},
   "outputs": [
    {
     "data": {
      "text/plain": [
       "array([   0,    1,    2, 1111,    4,    5,    6,    7,    8,    9,   10,\n",
       "         11])"
      ]
     },
     "execution_count": 9,
     "metadata": {},
     "output_type": "execute_result"
    }
   ],
   "source": [
    "import numpy as np\n",
    "\n",
    "# view() 方法创建一个视图（浅复制）\n",
    "a = np.arange(12)\n",
    "c = a.view()\n",
    "c is a\n",
    "\n",
    "# a 不改变\n",
    "c.shape = 3,4\n",
    "c\n",
    "a\n",
    "\n",
    "# a 改变\n",
    "c[0,3] = 1111\n",
    "a"
   ]
  },
  {
   "cell_type": "code",
   "execution_count": 12,
   "metadata": {},
   "outputs": [
    {
     "data": {
      "text/plain": [
       "array([ 0,  1,  2,  3,  4,  5,  6,  7,  8,  9, 10, 11])"
      ]
     },
     "execution_count": 12,
     "metadata": {},
     "output_type": "execute_result"
    }
   ],
   "source": [
    "import numpy as np\n",
    "\n",
    "# copy() 完全拷贝一份，深拷贝\n",
    "a = np.arange(12)\n",
    "b = a.copy()\n",
    "b is a\n",
    "\n",
    "# a 不改变\n",
    "b.shape = 3,4\n",
    "a\n",
    "b\n",
    "\n",
    "# b 不改变\n",
    "b[0,3] = 1111\n",
    "a"
   ]
  },
  {
   "cell_type": "raw",
   "metadata": {},
   "source": []
  }
 ],
 "metadata": {
  "kernelspec": {
   "display_name": "Python 3",
   "language": "python",
   "name": "python3"
  },
  "language_info": {
   "codemirror_mode": {
    "name": "ipython",
    "version": 3
   },
   "file_extension": ".py",
   "mimetype": "text/x-python",
   "name": "python",
   "nbconvert_exporter": "python",
   "pygments_lexer": "ipython3",
   "version": "3.6.5"
  }
 },
 "nbformat": 4,
 "nbformat_minor": 2
}
